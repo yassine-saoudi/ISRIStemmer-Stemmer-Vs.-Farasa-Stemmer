{
 "cells": [
  {
   "cell_type": "code",
   "execution_count": null,
   "metadata": {},
   "outputs": [],
   "source": [
    "# ISRIStemmer Stemmer"
   ]
  },
  {
   "cell_type": "code",
   "execution_count": 2,
   "metadata": {},
   "outputs": [],
   "source": [
    "import nltk \n",
    "from nltk.stem.isri import ISRIStemmer"
   ]
  },
  {
   "cell_type": "code",
   "execution_count": 3,
   "metadata": {},
   "outputs": [],
   "source": [
    "st = ISRIStemmer()"
   ]
  },
  {
   "cell_type": "code",
   "execution_count": 17,
   "metadata": {},
   "outputs": [],
   "source": [
    "w = 'المستشفيات النشاطات اليومية إمكانية عودته إلى مزاولة نشاطاته الروتينية اليومية مع الامتناع عن القيام بمجهود جسدي كبير أو نشاطات رياضية'"
   ]
  },
  {
   "cell_type": "code",
   "execution_count": 18,
   "metadata": {},
   "outputs": [
    {
     "name": "stdout",
     "output_type": "stream",
     "text": [
      "مستشفيات النشاطات اليومية إمكانية عودته إلى مزاولة نشاطاته الروتينية اليومية مع الامتناع عن القيام بمجهود جسدي كبير أو نشاطات رياضية\n"
     ]
    }
   ],
   "source": [
    "print (st.stem(w))"
   ]
  },
  {
   "cell_type": "code",
   "execution_count": null,
   "metadata": {},
   "outputs": [],
   "source": [
    "# Farasa Stemmer"
   ]
  },
  {
   "cell_type": "code",
   "execution_count": 61,
   "metadata": {},
   "outputs": [
    {
     "name": "stdout",
     "output_type": "stream",
     "text": [
      "Collecting farasapy\n",
      "  Downloading farasapy-0.0.14-py3-none-any.whl (11 kB)\n",
      "Requirement already satisfied: tqdm in /home/yassine/anaconda3/envs/my_env/lib/python3.7/site-packages (from farasapy) (4.32.2)\n",
      "Requirement already satisfied: requests in /home/yassine/anaconda3/envs/my_env/lib/python3.7/site-packages (from farasapy) (2.22.0)\n",
      "Requirement already satisfied: chardet<3.1.0,>=3.0.2 in /home/yassine/anaconda3/envs/my_env/lib/python3.7/site-packages (from requests->farasapy) (3.0.4)\n",
      "Requirement already satisfied: urllib3!=1.25.0,!=1.25.1,<1.26,>=1.21.1 in /home/yassine/anaconda3/envs/my_env/lib/python3.7/site-packages (from requests->farasapy) (1.25.3)\n",
      "Requirement already satisfied: idna<2.9,>=2.5 in /home/yassine/anaconda3/envs/my_env/lib/python3.7/site-packages (from requests->farasapy) (2.8)\n",
      "Requirement already satisfied: certifi>=2017.4.17 in /home/yassine/anaconda3/envs/my_env/lib/python3.7/site-packages (from requests->farasapy) (2019.11.28)\n",
      "Installing collected packages: farasapy\n",
      "Successfully installed farasapy-0.0.14\n",
      "\n",
      "\u001b[1m[\u001b[0m\u001b[34;49mnotice\u001b[0m\u001b[1;39;49m]\u001b[0m\u001b[39;49m A new release of pip available: \u001b[0m\u001b[31;49m22.1.2\u001b[0m\u001b[39;49m -> \u001b[0m\u001b[32;49m22.2.2\u001b[0m\n",
      "\u001b[1m[\u001b[0m\u001b[34;49mnotice\u001b[0m\u001b[1;39;49m]\u001b[0m\u001b[39;49m To update, run: \u001b[0m\u001b[32;49mpip install --upgrade pip\u001b[0m\n",
      "Note: you may need to restart the kernel to use updated packages.\n"
     ]
    }
   ],
   "source": [
    "pip  install -U farasapy"
   ]
  },
  {
   "cell_type": "code",
   "execution_count": 62,
   "metadata": {},
   "outputs": [],
   "source": [
    "from farasa.stemmer import FarasaStemmer"
   ]
  },
  {
   "cell_type": "code",
   "execution_count": 63,
   "metadata": {},
   "outputs": [],
   "source": [
    "w =\\\n",
    "'''\n",
    "المستشفيات النشاطات اليومية إمكانية عودته إلى مزاولة نشاطاته الروتينية اليومية مع الامتناع عن القيام بمجهود جسدي كبير أو نشاطات رياضية\n",
    "'''"
   ]
  },
  {
   "cell_type": "code",
   "execution_count": 64,
   "metadata": {},
   "outputs": [
    {
     "name": "stdout",
     "output_type": "stream",
     "text": [
      "original sample: \n",
      "المستشفيات النشاطات اليومية إمكانية عودته إلى مزاولة نشاطاته الروتينية اليومية مع الامتناع عن القيام بمجهود جسدي كبير أو نشاطات رياضية\n",
      "\n"
     ]
    }
   ],
   "source": [
    "print(\"original sample:\",w)"
   ]
  },
  {
   "cell_type": "code",
   "execution_count": 65,
   "metadata": {},
   "outputs": [
    {
     "name": "stderr",
     "output_type": "stream",
     "text": [
      "/home/yassine/anaconda3/envs/my_env/lib/python3.7/site-packages/urllib3/connectionpool.py:851: InsecureRequestWarning: Unverified HTTPS request is being made. Adding certificate verification is strongly advised. See: https://urllib3.readthedocs.io/en/latest/advanced-usage.html#ssl-warnings\n",
      "  InsecureRequestWarning)\n"
     ]
    },
    {
     "name": "stdout",
     "output_type": "stream",
     "text": [
      "100%|██████████| 241M/241M [03:48<00:00, 1.18MiB/s] sample stemmed: مستشفى نشاط يومي إمكانية عودة إلى مزاولة نشاط روتيني يومي مع امتناع عن قيام مجهود جسد كبير أو نشاط رياضي\n",
      "100%|██████████| 241M/241M [04:00<00:00, 1.18MiB/s]"
     ]
    }
   ],
   "source": [
    "stemmer = FarasaStemmer()\n",
    "stemmed = stemmer.stem(w)\n",
    "print(\"sample stemmed:\",stemmed)"
   ]
  }
 ],
 "metadata": {
  "kernelspec": {
   "display_name": "Python 3",
   "language": "python",
   "name": "python3"
  },
  "language_info": {
   "codemirror_mode": {
    "name": "ipython",
    "version": 3
   },
   "file_extension": ".py",
   "mimetype": "text/x-python",
   "name": "python",
   "nbconvert_exporter": "python",
   "pygments_lexer": "ipython3",
   "version": "3.7.4"
  }
 },
 "nbformat": 4,
 "nbformat_minor": 2
}
